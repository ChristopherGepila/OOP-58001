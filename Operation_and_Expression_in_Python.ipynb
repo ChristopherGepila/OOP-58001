{
  "nbformat": 4,
  "nbformat_minor": 0,
  "metadata": {
    "colab": {
      "provenance": [],
      "authorship_tag": "ABX9TyN3aPikBkX4+YCE8HHO/LV9",
      "include_colab_link": true
    },
    "kernelspec": {
      "name": "python3",
      "display_name": "Python 3"
    },
    "language_info": {
      "name": "python"
    }
  },
  "cells": [
    {
      "cell_type": "markdown",
      "metadata": {
        "id": "view-in-github",
        "colab_type": "text"
      },
      "source": [
        "<a href=\"https://colab.research.google.com/github/ChristopherGepila/OOP-58001/blob/main/Operation_and_Expression_in_Python.ipynb\" target=\"_parent\"><img src=\"https://colab.research.google.com/assets/colab-badge.svg\" alt=\"Open In Colab\"/></a>"
      ]
    },
    {
      "cell_type": "markdown",
      "source": [
        "Boolean Operators "
      ],
      "metadata": {
        "id": "_mgaRV-vTXkf"
      }
    },
    {
      "cell_type": "code",
      "execution_count": null,
      "metadata": {
        "id": "hFqRYtEWS3a1"
      },
      "outputs": [],
      "source": [
        "print(10>9)\n",
        "print(10==9)\n",
        "print(10<9)"
      ]
    },
    {
      "cell_type": "markdown",
      "source": [],
      "metadata": {
        "id": "aNbNf8-ZWc6L"
      }
    },
    {
      "cell_type": "markdown",
      "source": [
        "Bool() Function "
      ],
      "metadata": {
        "id": "kTFX6Nl_Uhvq"
      }
    },
    {
      "cell_type": "code",
      "source": [
        "print(bool(\"Maria\"))\n",
        "print(bool(1))\n",
        "print(bool(0))\n",
        "print(bool(None))"
      ],
      "metadata": {
        "id": "yYFD3G9ZUpzS"
      },
      "execution_count": null,
      "outputs": []
    },
    {
      "cell_type": "markdown",
      "source": [
        "Function can Return a Boolean / If Else Statement"
      ],
      "metadata": {
        "id": "BBnXCb5eVQPS"
      }
    },
    {
      "cell_type": "code",
      "source": [
        "def myFunction():\n",
        " return True\n",
        "\n",
        "print(myFunction())\n"
      ],
      "metadata": {
        "id": "H8Aq49IpVWby"
      },
      "execution_count": null,
      "outputs": []
    },
    {
      "cell_type": "code",
      "source": [
        "def myFunction():\n",
        "  return False\n",
        "\n",
        "if myFunction():\n",
        "  print(\"YES!\")\n",
        "else:\n",
        "  print(\"NO!\")"
      ],
      "metadata": {
        "id": "ZHnOmmp9WoT4"
      },
      "execution_count": null,
      "outputs": []
    },
    {
      "cell_type": "code",
      "source": [
        "def myFunction():\n",
        "  return True\n",
        "\n",
        "if myFunction():\n",
        "  print(\"YES!\")\n",
        "else:\n",
        "   print(\"NO!\")"
      ],
      "metadata": {
        "id": "TfCMqgzTXJcn"
      },
      "execution_count": null,
      "outputs": []
    },
    {
      "cell_type": "markdown",
      "source": [
        "You Try!"
      ],
      "metadata": {
        "id": "YTQEmK4NX-9Z"
      }
    },
    {
      "cell_type": "code",
      "source": [
        "print(10>9)\n",
        "\n",
        "a = 6\n",
        "b = 7\n",
        "\n",
        "print(a == b)\n",
        "print(a != b)"
      ],
      "metadata": {
        "id": "qqACFiUUXVtY"
      },
      "execution_count": null,
      "outputs": []
    },
    {
      "cell_type": "markdown",
      "source": [
        "Python Operators"
      ],
      "metadata": {
        "id": "P2YI7yRGYEyQ"
      }
    },
    {
      "cell_type": "code",
      "source": [
        "print(10+5)\n",
        "print(10-5)\n",
        "print(10*5)\n",
        "print(10/5)\n",
        "\n",
        "print(10%5)\n",
        "print(10//3)\n",
        "print(10**2)\n"
      ],
      "metadata": {
        "id": "SBRhfizDYhDI"
      },
      "execution_count": null,
      "outputs": []
    },
    {
      "cell_type": "markdown",
      "source": [
        "Python Bitwise Operators"
      ],
      "metadata": {
        "id": "Wjc_t8uVZJMA"
      }
    },
    {
      "cell_type": "code",
      "source": [
        "a = 60\n",
        "b = 13\n",
        "\n",
        "a >> 1"
      ],
      "metadata": {
        "id": "S5sFTcCPZOgA"
      },
      "execution_count": null,
      "outputs": []
    },
    {
      "cell_type": "markdown",
      "source": [
        "Python Assigment Operators "
      ],
      "metadata": {
        "id": "QoVF5WkLZPBY"
      }
    },
    {
      "cell_type": "code",
      "source": [
        "x = 5\n",
        "x +=3 \n",
        "\n",
        "print(x)\n",
        "\n",
        "x /=3 \n",
        "\n",
        "print(x)"
      ],
      "metadata": {
        "id": "bGROoCjWZVXw"
      },
      "execution_count": null,
      "outputs": []
    }
  ]
}