{
  "nbformat": 4,
  "nbformat_minor": 0,
  "metadata": {
    "colab": {
      "provenance": [],
      "authorship_tag": "ABX9TyMJTbtaUj64sysOQhCTBn4B",
      "include_colab_link": true
    },
    "kernelspec": {
      "name": "python3",
      "display_name": "Python 3"
    },
    "language_info": {
      "name": "python"
    }
  },
  "cells": [
    {
      "cell_type": "markdown",
      "metadata": {
        "id": "view-in-github",
        "colab_type": "text"
      },
      "source": [
        "<a href=\"https://colab.research.google.com/github/ChristopherGepila/OOP-58001/blob/main/LAB%20ACTIVITY%202.ipynb\" target=\"_parent\"><img src=\"https://colab.research.google.com/assets/colab-badge.svg\" alt=\"Open In Colab\"/></a>"
      ]
    },
    {
      "cell_type": "code",
      "execution_count": 2,
      "metadata": {
        "colab": {
          "base_uri": "https://localhost:8080/"
        },
        "id": "dgtAd5y5uaiV",
        "outputId": "ef8bd157-2955-4cd2-8fef-b5e379ce80ce"
      },
      "outputs": [
        {
          "output_type": "stream",
          "name": "stdout",
          "text": [
            "Enter the radius: 65\n",
            "Area: 13273.228961416877\n",
            "Perimeter: 408.4070449666731\n"
          ]
        }
      ],
      "source": [
        "class Circle:\n",
        "  def __init__(self,radius):\n",
        "    self.radius = radius\n",
        "    import math\n",
        "    self.pi = math.pi\n",
        "  \n",
        "  def area(self):\n",
        "    return self.pi*self.radius**2\n",
        "  \n",
        "  def perimeter(self):\n",
        "    return 2*self.pi*self.radius\n",
        "  \n",
        "  def display(self):\n",
        "    print(\"Area:\", self.area())\n",
        "    print(\"Perimeter:\", self.perimeter())\n",
        "  \n",
        "circle = Circle(float(input(\"Enter the radius: \")))\n",
        "circle.display()"
      ]
    }
  ]
}