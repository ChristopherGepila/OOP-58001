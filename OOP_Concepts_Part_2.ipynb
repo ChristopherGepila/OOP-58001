{
  "nbformat": 4,
  "nbformat_minor": 0,
  "metadata": {
    "colab": {
      "provenance": [],
      "authorship_tag": "ABX9TyMaOYknjvsSsLlJmskY/h7m",
      "include_colab_link": true
    },
    "kernelspec": {
      "name": "python3",
      "display_name": "Python 3"
    },
    "language_info": {
      "name": "python"
    }
  },
  "cells": [
    {
      "cell_type": "markdown",
      "metadata": {
        "id": "view-in-github",
        "colab_type": "text"
      },
      "source": [
        "<a href=\"https://colab.research.google.com/github/ChristopherGepila/OOP-58001/blob/main/OOP_Concepts_Part_2.ipynb\" target=\"_parent\"><img src=\"https://colab.research.google.com/assets/colab-badge.svg\" alt=\"Open In Colab\"/></a>"
      ]
    },
    {
      "cell_type": "markdown",
      "source": [
        "Class with multiple Objects"
      ],
      "metadata": {
        "id": "PMLlxk0VW8HB"
      }
    },
    {
      "cell_type": "code",
      "execution_count": 4,
      "metadata": {
        "colab": {
          "base_uri": "https://localhost:8080/"
        },
        "id": "FG96T90LUJoi",
        "outputId": "251d383d-6957-45a4-8b59-c3683fb7eebe"
      },
      "outputs": [
        {
          "output_type": "stream",
          "name": "stdout",
          "text": [
            "Griffon Vulture flies above clouds\n",
            "Common Crane flies above clouds\n",
            "emu is the national bird of the Philippines\n"
          ]
        }
      ],
      "source": [
        "#class with multiple Objects \n",
        "class Birds:\n",
        "  def __init__(self, bird_name):\n",
        "    self.bird_name = bird_name\n",
        "  def flying_birds(self):\n",
        "    print(f\"{self.bird_name} flies above clouds\")\n",
        "  def non_flying_birds(self):\n",
        "    print(f\"{self.bird_name} is the national bird of the Philippines\")\n",
        "\n",
        "vulture = Birds(\"Griffon Vulture\")\n",
        "crane = Birds(\"Common Crane\")\n",
        "emu = Birds(\"emu\")\n",
        "\n",
        "vulture.flying_birds()\n",
        "crane.flying_birds()\n",
        "emu.non_flying_birds()"
      ]
    },
    {
      "cell_type": "code",
      "source": [
        "class foo:\n",
        "  def __init__(self, a, b):\n",
        "    self.a = a\n",
        "    self.b = b\n",
        "\n",
        "  def add(self):\n",
        "    return self.a + self.b\n",
        "\n",
        "foo_object = foo(3,4)\n",
        "foo_object.add()"
      ],
      "metadata": {
        "colab": {
          "base_uri": "https://localhost:8080/"
        },
        "id": "reV39gkYZETA",
        "outputId": "0fe16773-1113-429e-ada9-2634a91b49f0"
      },
      "execution_count": 8,
      "outputs": [
        {
          "output_type": "execute_result",
          "data": {
            "text/plain": [
              "7"
            ]
          },
          "metadata": {},
          "execution_count": 8
        }
      ]
    },
    {
      "cell_type": "code",
      "source": [
        "#Encapsulation\n",
        "class foo:\n",
        "  def __init__(self, a, b):\n",
        "    self.__a = a\n",
        "    self.__b = b\n",
        "\n",
        "  def add(self):\n",
        "    return self.__a + self.__b\n",
        "\n",
        "foo_object = foo(3,4)\n",
        "foo_object.add()\n",
        "foo_object.a = 5\n",
        "foo_object.add()"
      ],
      "metadata": {
        "colab": {
          "base_uri": "https://localhost:8080/"
        },
        "id": "o6hADed3ZzaT",
        "outputId": "44dab1f9-aee6-42dd-bc59-4b7527fc13ce"
      },
      "execution_count": 9,
      "outputs": [
        {
          "output_type": "execute_result",
          "data": {
            "text/plain": [
              "7"
            ]
          },
          "metadata": {},
          "execution_count": 9
        }
      ]
    },
    {
      "cell_type": "code",
      "source": [
        "class Counter:\n",
        "  def __init__(self):\n",
        "    self.current += 1\n",
        "\n",
        "  def value(self):\n",
        "    return self.current\n",
        "\n",
        "  def reset(self):\n",
        "    self.current = 0"
      ],
      "metadata": {
        "id": "eyW2nNIfcNrK"
      },
      "execution_count": 11,
      "outputs": []
    },
    {
      "cell_type": "code",
      "source": [
        "#Inheritance\n",
        "class person:    #Super Class\n",
        "  def __init__(self, name, birthdate):\n",
        "    self.name = name\n",
        "    self.birthdate = birthdate\n",
        "  def display(self):\n",
        "    print(f\"My name is {self.name}\")\n",
        "    print(f\"My birthdate is {self.birthdate}\")\n",
        "\n",
        "class Students(person): #Sub class\n",
        "  pass\n",
        "\n",
        "class Teacher(person):\n",
        "  pass\n",
        "    \n",
        "student = person(\"Christopher\",\"December 25, 2003 \")\n",
        "\n",
        "student.display()\n",
        "\n",
        "teacher = Teacher(\"Ana\", \"Feb 14,1990\")\n",
        "\n",
        "teacher.display()\n",
        "\n",
        "class Students(person): #Sub class\n",
        "  pass"
      ],
      "metadata": {
        "id": "Tgf1gMTEd-5U"
      },
      "execution_count": null,
      "outputs": []
    },
    {
      "cell_type": "code",
      "source": [
        "#Create Super class Name \"Shapes\" (5 shapes)\n",
        "# attribute sides\n",
        "# create a function/method that display the no. of sides of each shapes\n",
        "# apply inheritance and encaptulation \n",
        "\n",
        "class Shapes:\n",
        "  def __init__(self, name, sides):\n",
        "    self._name = name\n",
        "    self._sides = sides\n",
        "  def display_sides(self):\n",
        "    print(f\"This shapes is {self._name} \")\n",
        "    print(f\"It has {self._sides} sides.\\n\")\n",
        "\n",
        "class Triangle(Shapes):\n",
        "  pass\n",
        "\n",
        "class Square(Shapes):\n",
        "  pass\n",
        "\n",
        "class Pentagon(Shapes):\n",
        "  pass\n",
        "\n",
        "class Octagon(Shapes):\n",
        "  pass\n",
        "\n",
        "class Hexagon(Shapes):\n",
        "  pass\n",
        "\n",
        "Triangle = Triangle(\"Triangle\", 3)\n",
        "Triangle.display_sides()\n",
        "\n",
        "Square = Square(\"Square\", 4)\n",
        "Square.display_sides()\n",
        "\n",
        "Pentagon = Pentagon(\"Pentagon\", 5)\n",
        "Pentagon.display_sides()\n",
        "\n",
        "Octagon = Octagon(\"Octagon\", 8)\n",
        "Octagon.display_sides()\n",
        "\n",
        "Hexagon = Hexagon(\"Hexagon\", 6)\n",
        "Hexagon.display_sides()"
      ],
      "metadata": {
        "id": "pMi3zJ66glSu"
      },
      "execution_count": null,
      "outputs": []
    }
  ]
}