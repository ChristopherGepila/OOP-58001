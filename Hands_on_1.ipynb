{
  "nbformat": 4,
  "nbformat_minor": 0,
  "metadata": {
    "colab": {
      "provenance": [],
      "authorship_tag": "ABX9TyPjHeH4q/Guk0qRJgGAB4V+",
      "include_colab_link": true
    },
    "kernelspec": {
      "name": "python3",
      "display_name": "Python 3"
    },
    "language_info": {
      "name": "python"
    }
  },
  "cells": [
    {
      "cell_type": "markdown",
      "metadata": {
        "id": "view-in-github",
        "colab_type": "text"
      },
      "source": [
        "<a href=\"https://colab.research.google.com/github/ChristopherGepila/OOP-58001/blob/main/Hands_on_1.ipynb\" target=\"_parent\"><img src=\"https://colab.research.google.com/assets/colab-badge.svg\" alt=\"Open In Colab\"/></a>"
      ]
    },
    {
      "cell_type": "code",
      "execution_count": 19,
      "metadata": {
        "colab": {
          "base_uri": "https://localhost:8080/"
        },
        "id": "mIHBQf7OV_I1",
        "outputId": "cecded39-fe50-432b-8313-b919e11b013e"
      },
      "outputs": [
        {
          "output_type": "stream",
          "name": "stdout",
          "text": [
            "This student is student 1\n",
            " \n",
            "Prelim Grade: 90\n",
            "\n",
            "Midterm Grade: 91\n",
            "\n",
            "Final Grade 95\n",
            "\n",
            "Average: 92.0\n",
            "\n",
            "This student is student 2\n",
            " \n",
            "Prelim Grade: 80\n",
            "\n",
            "Midterm Grade: 87\n",
            "\n",
            "Final Grade 96\n",
            "\n",
            "Average: 87.66666666666667\n",
            "\n",
            "This student is student 3\n",
            " \n",
            "Prelim Grade: 87\n",
            "\n",
            "Midterm Grade: 90\n",
            "\n",
            "Final Grade 92\n",
            "\n",
            "Average: 89.66666666666667\n",
            "\n"
          ]
        }
      ],
      "source": [
        "class Person:\n",
        "  def __init__(self, student, prelim, midterm, finals):\n",
        "    self.__student = student\n",
        "    self.__prelim = prelim\n",
        "    self.__midterm = midterm\n",
        "    self.__finals = finals\n",
        "\n",
        "  def grades(self):\n",
        "    return (self.__prelim + self.__midterm + self.__finals)/3 \n",
        "\n",
        "  def display(self):\n",
        "   print(f\"This student is {self.__student}\\n \")\n",
        "   print(f\"Prelim Grade: {self.__prelim}\\n\")\n",
        "   print(f\"Midterm Grade: {self.__midterm}\\n\")\n",
        "   print(f\"Final Grade {self.__finals}\\n\")\n",
        "   print(f\"Average: {self.grades()}\\n\")\n",
        "\n",
        "class Student_1(Person):\n",
        "  pass\n",
        "\n",
        "class Student_2(Person):\n",
        "  pass\n",
        "\n",
        "class Student_3(Person):\n",
        "  pass\n",
        "\n",
        "student1 = Student_1(\"student 1\", 90, 91, 95)\n",
        "student1.display()\n",
        "\n",
        "student2 = Student_2(\"student 2\", 80, 87, 96)\n",
        "student2.display()\n",
        "\n",
        "student3 = Student_3(\"student 3\", 87, 90, 92)\n",
        "student3.display()"
      ]
    }
  ]
}