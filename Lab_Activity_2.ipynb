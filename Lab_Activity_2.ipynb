{
  "nbformat": 4,
  "nbformat_minor": 0,
  "metadata": {
    "colab": {
      "provenance": [],
      "authorship_tag": "ABX9TyODJv8C8ABGs/U+NdatPm+w",
      "include_colab_link": true
    },
    "kernelspec": {
      "name": "python3",
      "display_name": "Python 3"
    },
    "language_info": {
      "name": "python"
    }
  },
  "cells": [
    {
      "cell_type": "markdown",
      "metadata": {
        "id": "view-in-github",
        "colab_type": "text"
      },
      "source": [
        "<a href=\"https://colab.research.google.com/github/ChristopherGepila/OOP-58001/blob/main/Lab_Activity_2.ipynb\" target=\"_parent\"><img src=\"https://colab.research.google.com/assets/colab-badge.svg\" alt=\"Open In Colab\"/></a>"
      ]
    },
    {
      "cell_type": "code",
      "execution_count": null,
      "metadata": {
        "id": "dgtAd5y5uaiV"
      },
      "outputs": [],
      "source": [
        "class Circle:\n",
        "  def __init__(self,radius):\n",
        "    self.radius = radius\n",
        "    import math\n",
        "    self.pi = math.pi\n",
        "  \n",
        "  def area(self):\n",
        "    return self.pi*self.radius**2\n",
        "  \n",
        "  def perimeter(self):\n",
        "    return 2*self.pi*self.radius\n",
        "  \n",
        "  def display(self):\n",
        "    print(\"The Area of the circle is:\", self.area())\n",
        "    print(\"The Perimeter of the circle is:\", self.perimeter())\n",
        "  \n",
        "circle = Circle(float(input(\"Enter the radius: \")))\n",
        "circle.display()"
      ]
    }
  ]
}