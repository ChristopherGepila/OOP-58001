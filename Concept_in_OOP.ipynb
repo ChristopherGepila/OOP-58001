{
  "nbformat": 4,
  "nbformat_minor": 0,
  "metadata": {
    "colab": {
      "provenance": [],
      "authorship_tag": "ABX9TyN1I6dm2/9qMdWfIXHHxrBu",
      "include_colab_link": true
    },
    "kernelspec": {
      "name": "python3",
      "display_name": "Python 3"
    },
    "language_info": {
      "name": "python"
    }
  },
  "cells": [
    {
      "cell_type": "markdown",
      "metadata": {
        "id": "view-in-github",
        "colab_type": "text"
      },
      "source": [
        "<a href=\"https://colab.research.google.com/github/ChristopherGepila/OOP-58001/blob/main/Concept_in_OOP.ipynb\" target=\"_parent\"><img src=\"https://colab.research.google.com/assets/colab-badge.svg\" alt=\"Open In Colab\"/></a>"
      ]
    },
    {
      "cell_type": "code",
      "source": [
        "#class construstor\n",
        "class Car:\n",
        "  pass"
      ],
      "metadata": {
        "id": "SIOQ2pF1Ph01"
      },
      "execution_count": 3,
      "outputs": []
    },
    {
      "cell_type": "code",
      "execution_count": null,
      "metadata": {
        "id": "dCLXM30FPWv1"
      },
      "outputs": [],
      "source": [
        "#create a class and object\n",
        "\n",
        "class Mynumber:\n",
        "  x=5\n",
        "\n",
        "num1 = Mynumber()\n",
        "print(num1.x)"
      ]
    },
    {
      "cell_type": "code",
      "source": [
        "class Person:\n",
        "  def __init__(self,name,age):\n",
        "    self.name = name\n",
        "    self.age = age\n",
        "  \n",
        "person = Person(\"Ana\",36)\n",
        "print(person.age)\n",
        "print(person.name)"
      ],
      "metadata": {
        "id": "3SfmmsCKPe4u"
      },
      "execution_count": null,
      "outputs": []
    },
    {
      "cell_type": "code",
      "source": [
        "class Person:\n",
        "  def __init__(self,name,age):\n",
        "    self.name = name\n",
        "    self.age = age\n",
        "  def myFunction(self):\n",
        "   print(\"Hello, my nmae is \",self.name)\n",
        "person = Person(\"Ana\",36)\n",
        "\n",
        "person.myFunction()"
      ],
      "metadata": {
        "id": "iRdtZkiNRUlW"
      },
      "execution_count": null,
      "outputs": []
    },
    {
      "cell_type": "code",
      "source": [
        "#Modify the object Properties\n",
        "\n",
        "person.name = \"Marco\"\n",
        "print(person.name)\n",
        "person.myFunction()\n"
      ],
      "metadata": {
        "id": "hD_4IJY7SElO"
      },
      "execution_count": null,
      "outputs": []
    },
    {
      "cell_type": "code",
      "source": [
        "# Compute for the area of square \n",
        "\n",
        "class Shapes:\n",
        "  def __init__(self,side):\n",
        "    self.side = side\n",
        "\n",
        "  def area(self):\n",
        "    return self.side*self.side\n",
        "\n",
        "  def display(self):\n",
        "    print(\"the area of the square is\", self.area())\n",
        "\n",
        "square = Shapes(4)\n",
        "square.display()"
      ],
      "metadata": {
        "id": "LGMm3g11TUv4"
      },
      "execution_count": null,
      "outputs": []
    },
    {
      "cell_type": "markdown",
      "source": [
        "Activity"
      ],
      "metadata": {
        "id": "rXNGldcAWeJn"
      }
    },
    {
      "cell_type": "code",
      "source": [
        "class Student:\n",
        "    def __init__(self, fullname, student_number, school):\n",
        "        self.fullname = fullname\n",
        "        self.student_number = student_number\n",
        "        self.school = school\n",
        "    \n",
        "    def display_info(self):\n",
        "        print(f\"My name is {self.fullname}\\nMy Student Number is {self.student_number}\\nI Study at {self.school}\")\n",
        "\n",
        "student = Student(\"Christopher Gepila\", 202210051, \"Adamson University\")\n",
        "student.display_info()"
      ],
      "metadata": {
        "colab": {
          "base_uri": "https://localhost:8080/"
        },
        "id": "Cdtu8WolUb0Q",
        "outputId": "7519b4ff-89df-4063-e3e6-a971261e0d97"
      },
      "execution_count": 33,
      "outputs": [
        {
          "output_type": "stream",
          "name": "stdout",
          "text": [
            "My name is Christopher Gepila\n",
            "My Student Number is 202210051\n",
            "I Study at Adamson University\n"
          ]
        }
      ]
    }
  ]
}