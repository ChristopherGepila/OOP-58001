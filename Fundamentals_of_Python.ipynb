{
  "nbformat": 4,
  "nbformat_minor": 0,
  "metadata": {
    "colab": {
      "provenance": [],
      "authorship_tag": "ABX9TyO3AmRZwwT1FlAV/pqL9+WR",
      "include_colab_link": true
    },
    "kernelspec": {
      "name": "python3",
      "display_name": "Python 3"
    },
    "language_info": {
      "name": "python"
    }
  },
  "cells": [
    {
      "cell_type": "markdown",
      "metadata": {
        "id": "view-in-github",
        "colab_type": "text"
      },
      "source": [
        "<a href=\"https://colab.research.google.com/github/ChristopherGepila/OOP-58001/blob/main/Fundamentals_of_Python.ipynb\" target=\"_parent\"><img src=\"https://colab.research.google.com/assets/colab-badge.svg\" alt=\"Open In Colab\"/></a>"
      ]
    },
    {
      "cell_type": "markdown",
      "source": [
        "Indentation"
      ],
      "metadata": {
        "id": "z78B3WaTRu3Y"
      }
    },
    {
      "cell_type": "code",
      "execution_count": 2,
      "metadata": {
        "colab": {
          "base_uri": "https://localhost:8080/"
        },
        "id": "twCa7w6RRkJa",
        "outputId": "af779ff0-8b93-4a39-9744-24fda5e0d9b8"
      },
      "outputs": [
        {
          "output_type": "stream",
          "name": "stdout",
          "text": [
            "five is greater than 2\n"
          ]
        }
      ],
      "source": [
        "if 5>2:\n",
        "  print('five is greater than 2')"
      ]
    },
    {
      "cell_type": "markdown",
      "source": [
        "Python Comment"
      ],
      "metadata": {
        "id": "3UJjtkvfSdzY"
      }
    },
    {
      "cell_type": "code",
      "source": [
        "#This is a comment\n",
        "print('Hello World')\n"
      ],
      "metadata": {
        "colab": {
          "base_uri": "https://localhost:8080/"
        },
        "id": "aWhbDbbqS4zG",
        "outputId": "da26fe3c-9be3-434a-a0ee-efdfed02a8f9"
      },
      "execution_count": 3,
      "outputs": [
        {
          "output_type": "stream",
          "name": "stdout",
          "text": [
            "Hello World\n"
          ]
        }
      ]
    },
    {
      "cell_type": "markdown",
      "source": [
        "Python Variable (Case sensitive - Python)"
      ],
      "metadata": {
        "id": "rN58N8l6TEGW"
      }
    },
    {
      "cell_type": "code",
      "source": [
        "# Single variable with multiple values \n",
        "array = [1,2,3,40,50,1100]\n",
        "print (array)\n",
        "# multiple values with Single variable\n",
        "a = b = c = 'Tupe'\n",
        "print(a)\n",
        "print(b)\n",
        "print(c)"
      ],
      "metadata": {
        "colab": {
          "base_uri": "https://localhost:8080/"
        },
        "id": "MvT_t31vTNW-",
        "outputId": "b2d5a8ea-377a-4a0a-edd5-f5afa95983cf"
      },
      "execution_count": 9,
      "outputs": [
        {
          "output_type": "stream",
          "name": "stdout",
          "text": [
            "[1, 2, 3, 40, 50, 1100]\n",
            "Tupe\n",
            "Tupe\n",
            "Tupe\n"
          ]
        }
      ]
    },
    {
      "cell_type": "markdown",
      "source": [
        "Casting Python Code"
      ],
      "metadata": {
        "id": "5XX7vY4kUyN2"
      }
    },
    {
      "cell_type": "code",
      "source": [
        "n = int (4)\n",
        "print (n)"
      ],
      "metadata": {
        "colab": {
          "base_uri": "https://localhost:8080/"
        },
        "id": "A6ovl60GU2fm",
        "outputId": "97b297a7-e313-4641-b383-56f1952362e3"
      },
      "execution_count": 10,
      "outputs": [
        {
          "output_type": "stream",
          "name": "stdout",
          "text": [
            "4\n"
          ]
        }
      ]
    },
    {
      "cell_type": "markdown",
      "source": [
        "Python Type Function"
      ],
      "metadata": {
        "id": "XkET6rtKVNRN"
      }
    },
    {
      "cell_type": "code",
      "source": [
        "C = 'Tupe'\n",
        "d = 5.6\n",
        "print(type(c))\n",
        "print(type(d))"
      ],
      "metadata": {
        "colab": {
          "base_uri": "https://localhost:8080/"
        },
        "id": "uf2nwpY7VRMl",
        "outputId": "add7fad3-4fa8-4584-96c0-ae2661f272ac"
      },
      "execution_count": 11,
      "outputs": [
        {
          "output_type": "stream",
          "name": "stdout",
          "text": [
            "<class 'str'>\n",
            "<class 'float'>\n"
          ]
        }
      ]
    }
  ]
}