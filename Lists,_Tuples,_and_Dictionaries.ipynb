{
  "nbformat": 4,
  "nbformat_minor": 0,
  "metadata": {
    "colab": {
      "provenance": [],
      "authorship_tag": "ABX9TyM2C4d/7UF0YH04Mu/FD5BB",
      "include_colab_link": true
    },
    "kernelspec": {
      "name": "python3",
      "display_name": "Python 3"
    },
    "language_info": {
      "name": "python"
    }
  },
  "cells": [
    {
      "cell_type": "markdown",
      "metadata": {
        "id": "view-in-github",
        "colab_type": "text"
      },
      "source": [
        "<a href=\"https://colab.research.google.com/github/ChristopherGepila/OOP-58001/blob/main/Lists%2C_Tuples%2C_and_Dictionaries.ipynb\" target=\"_parent\"><img src=\"https://colab.research.google.com/assets/colab-badge.svg\" alt=\"Open In Colab\"/></a>"
      ]
    },
    {
      "cell_type": "markdown",
      "source": [
        "Functions"
      ],
      "metadata": {
        "id": "DFj_hYP3KwEO"
      }
    },
    {
      "cell_type": "code",
      "execution_count": null,
      "metadata": {
        "id": "kIpbaV8yJfbJ"
      },
      "outputs": [],
      "source": [
        "class shapes:\n",
        "  def __init__(self, length, width):\n",
        "    self.length = length\n",
        "    self.width = width\n",
        "\n",
        "  def area(self):\n",
        "    return self.length * self.width\n",
        "\n",
        "rectangle = shapes(10, 5)\n",
        "\n",
        "rectangle.area()"
      ]
    },
    {
      "cell_type": "code",
      "source": [
        "#create your own function that will show your full name and age\n",
        "#use Person as class name\n",
        "\n",
        "class person:\n",
        "  def __init__(self, name, age):\n",
        "    self.name = name\n",
        "    self.age = age\n",
        "\n",
        "  def info(self):\n",
        "    return self.name + self.age\n",
        "\n",
        "user = person( \"Christopher Gepila\" , \" 19 Years Old\")\n",
        "\n",
        "user.info()\n",
        "\n",
        "\n"
      ],
      "metadata": {
        "id": "JmrlPiq9N_Ea"
      },
      "execution_count": null,
      "outputs": []
    },
    {
      "cell_type": "markdown",
      "source": [
        "List"
      ],
      "metadata": {
        "id": "aMMxphW4UzQp"
      }
    },
    {
      "cell_type": "code",
      "source": [
        "pi = 3.14159\n",
        "varList = [\"abc\", 1, \"def\", 2]\n",
        "print(varList[0])\n",
        "\n",
        "varList.append(\"ghl\")\n",
        "print(varList)\n",
        "varList.remove(2)\n",
        "print(varList)\n",
        "\n",
        "varList.insert(3, 3)\n",
        "print(varList)"
      ],
      "metadata": {
        "id": "dEgU0avfU0Oh"
      },
      "execution_count": null,
      "outputs": []
    },
    {
      "cell_type": "markdown",
      "source": [
        "Dictionaries "
      ],
      "metadata": {
        "id": "cZUU7X4JWLz2"
      }
    },
    {
      "cell_type": "code",
      "source": [
        "students = {\n",
        "    1: \"ana\",\n",
        "    2: \"billy\",\n",
        "    3: \"maria\",\n",
        "    4: \"joy\",\n",
        "}\n",
        "print(students)"
      ],
      "metadata": {
        "id": "yEkHNbUsWNop"
      },
      "execution_count": null,
      "outputs": []
    }
  ]
}