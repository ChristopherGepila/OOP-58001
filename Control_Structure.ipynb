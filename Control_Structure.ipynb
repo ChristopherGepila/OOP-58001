{
  "nbformat": 4,
  "nbformat_minor": 0,
  "metadata": {
    "colab": {
      "provenance": [],
      "authorship_tag": "ABX9TyNgoGsEc1pSCtABPE58F7O7",
      "include_colab_link": true
    },
    "kernelspec": {
      "name": "python3",
      "display_name": "Python 3"
    },
    "language_info": {
      "name": "python"
    }
  },
  "cells": [
    {
      "cell_type": "markdown",
      "metadata": {
        "id": "view-in-github",
        "colab_type": "text"
      },
      "source": [
        "<a href=\"https://colab.research.google.com/github/ChristopherGepila/OOP-58001/blob/main/Control_Structure.ipynb\" target=\"_parent\"><img src=\"https://colab.research.google.com/assets/colab-badge.svg\" alt=\"Open In Colab\"/></a>"
      ]
    },
    {
      "cell_type": "markdown",
      "source": [
        "Conditional Statement"
      ],
      "metadata": {
        "id": "q1KDHBZ2ED6m"
      }
    },
    {
      "cell_type": "markdown",
      "source": [
        "If statement"
      ],
      "metadata": {
        "id": "ZH4kM2mLEpR-"
      }
    },
    {
      "cell_type": "code",
      "execution_count": null,
      "metadata": {
        "id": "1YCbgUkhD_4h"
      },
      "outputs": [],
      "source": [
        "a = 12\n",
        "b = 100\n",
        "\n",
        "if b > a:\n",
        "  print( \"100 is greater than 12\")\n"
      ]
    },
    {
      "cell_type": "code",
      "source": [
        "x = int(input())\n",
        "y = int(input())\n",
        "\n",
        "if x > y:\n",
        "  print( x, \" is greater than\", y)"
      ],
      "metadata": {
        "id": "tNHCkVsCGVEn"
      },
      "execution_count": null,
      "outputs": []
    },
    {
      "cell_type": "markdown",
      "source": [
        "Elif Statement"
      ],
      "metadata": {
        "id": "PeUB9EXNEsSe"
      }
    },
    {
      "cell_type": "code",
      "source": [
        "a = 12\n",
        "b =  100\n",
        "if b > a:\n",
        "  print(\"100 is greater than 12\")\n",
        "elif a==b:\n",
        "    print(\"12 and 100 are equal\")"
      ],
      "metadata": {
        "id": "KmDT-kYnEv3V"
      },
      "execution_count": null,
      "outputs": []
    },
    {
      "cell_type": "markdown",
      "source": [
        "Else Statement "
      ],
      "metadata": {
        "id": "KORhQmq3EwT1"
      }
    },
    {
      "cell_type": "code",
      "source": [
        "a= 200\n",
        "b = 50\n",
        "if b>a:\n",
        "  print(\"33 is greater than 200\")\n",
        "elif a==b:\n",
        "  print(\"200 and 50 are equal\")\n",
        "else:\n",
        "  print(\"200 is greater than 50\")"
      ],
      "metadata": {
        "id": "IRoswYCcFuJW"
      },
      "execution_count": null,
      "outputs": []
    },
    {
      "cell_type": "markdown",
      "source": [
        "Nested if"
      ],
      "metadata": {
        "id": "_3vFEcc7IO86"
      }
    },
    {
      "cell_type": "code",
      "source": [
        "x= (int(input()))\n",
        "if x > 10:\n",
        "  print(\"Above 10\")\n",
        "if x > 20:\n",
        "  print(\"and also above 20\")\n",
        "else:\n",
        "    print(\"but below 20\")\n",
        "if x > 30:\n",
        "  print(\"and also above 30\")\n",
        "else:\n",
        "  print(\"but below 30\")\n",
        "if x > 40:\n",
        "  print(\"and also above 40\")\n",
        "else:\n",
        "  print(\"but below 40\")\n",
        "if x > 50:\n",
        "    print(\"and also above 50\")\n",
        "else:\n",
        "  print(\"but below 50\")\n",
        "  "
      ],
      "metadata": {
        "id": "szcCsL81IiMC"
      },
      "execution_count": null,
      "outputs": []
    },
    {
      "cell_type": "markdown",
      "source": [
        "Example 3"
      ],
      "metadata": {
        "id": "qYYZ4EYfMLDm"
      }
    },
    {
      "cell_type": "code",
      "source": [
        "grade = (float(input()))\n",
        "if grade >= 70:\n",
        "  print(\"PASSED\")\n",
        "elif grade >= 65 and grade <= 69:\n",
        "  print(\"REMEDIAL\")\n",
        "elif grade < 65 and grade >= 0:\n",
        "  print(\"FAILED\")\n",
        "else:\n",
        "  print(\"INVALID INPUT\")"
      ],
      "metadata": {
        "id": "5Vo7Y7idMMQl"
      },
      "execution_count": null,
      "outputs": []
    },
    {
      "cell_type": "markdown",
      "source": [
        "Example 2:\n"
      ],
      "metadata": {
        "id": "RurIK9lDSIrF"
      }
    },
    {
      "cell_type": "code",
      "source": [
        "number = (float(input()))\n",
        "if number >= 1:\n",
        "  print(\"POSITIVE\")\n",
        "elif number == 0:\n",
        "  print(\"NUMBER IS ZERO\")\n",
        "else:\n",
        "  print(\"NUMBER IS NEGATIVE\")"
      ],
      "metadata": {
        "id": "EMB5wz4pSK40"
      },
      "execution_count": null,
      "outputs": []
    },
    {
      "cell_type": "markdown",
      "source": [
        "Example 1:"
      ],
      "metadata": {
        "id": "aHfVKyi5S3x0"
      }
    },
    {
      "cell_type": "code",
      "source": [
        "age = (float(input()))\n",
        "if age >= 18:\n",
        "  print(\"THE AGE IS QUALIFIED TO VOTE\")\n",
        "else:\n",
        "  print(\"NOT QUALIFIED TO VOTE\")"
      ],
      "metadata": {
        "id": "uz1OH85bS5bU"
      },
      "execution_count": null,
      "outputs": []
    }
  ]
}