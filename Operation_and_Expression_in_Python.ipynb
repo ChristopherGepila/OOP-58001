{
  "nbformat": 4,
  "nbformat_minor": 0,
  "metadata": {
    "colab": {
      "provenance": [],
      "authorship_tag": "ABX9TyOsBuCjmgFmGFuwwgSbjoEt",
      "include_colab_link": true
    },
    "kernelspec": {
      "name": "python3",
      "display_name": "Python 3"
    },
    "language_info": {
      "name": "python"
    }
  },
  "cells": [
    {
      "cell_type": "markdown",
      "metadata": {
        "id": "view-in-github",
        "colab_type": "text"
      },
      "source": [
        "<a href=\"https://colab.research.google.com/github/ChristopherGepila/OOP-58001/blob/main/Operation_and_Expression_in_Python.ipynb\" target=\"_parent\"><img src=\"https://colab.research.google.com/assets/colab-badge.svg\" alt=\"Open In Colab\"/></a>"
      ]
    },
    {
      "cell_type": "markdown",
      "source": [
        "Boolean Operators "
      ],
      "metadata": {
        "id": "_mgaRV-vTXkf"
      }
    },
    {
      "cell_type": "code",
      "execution_count": null,
      "metadata": {
        "id": "hFqRYtEWS3a1"
      },
      "outputs": [],
      "source": [
        "print(10>9)\n",
        "print(10==9)\n",
        "print(10<9)"
      ]
    },
    {
      "cell_type": "markdown",
      "source": [
        "Bool() Function "
      ],
      "metadata": {
        "id": "kTFX6Nl_Uhvq"
      }
    },
    {
      "cell_type": "code",
      "source": [
        "print(bool(\"Maria\"))\n",
        "print(bool(1))\n",
        "print(bool(0))\n",
        "print(bool(None))"
      ],
      "metadata": {
        "id": "yYFD3G9ZUpzS"
      },
      "execution_count": null,
      "outputs": []
    },
    {
      "cell_type": "markdown",
      "source": [
        "Function can Return a Boolean"
      ],
      "metadata": {
        "id": "BBnXCb5eVQPS"
      }
    },
    {
      "cell_type": "code",
      "source": [],
      "metadata": {
        "id": "H8Aq49IpVWby"
      },
      "execution_count": null,
      "outputs": []
    }
  ]
}