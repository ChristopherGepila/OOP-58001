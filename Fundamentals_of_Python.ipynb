{
  "nbformat": 4,
  "nbformat_minor": 0,
  "metadata": {
    "colab": {
      "provenance": [],
      "authorship_tag": "ABX9TyO3AmRZwwT1FlAV/pqL9+WR",
      "include_colab_link": true
    },
    "kernelspec": {
      "name": "python3",
      "display_name": "Python 3"
    },
    "language_info": {
      "name": "python"
    }
  },
  "cells": [
    {
      "cell_type": "markdown",
      "metadata": {
        "id": "view-in-github",
        "colab_type": "text"
      },
      "source": [
        "<a href=\"https://colab.research.google.com/github/ChristopherGepila/OOP-58001/blob/main/Fundamentals_of_Python.ipynb\" target=\"_parent\"><img src=\"https://colab.research.google.com/assets/colab-badge.svg\" alt=\"Open In Colab\"/></a>"
      ]
    },
    {
      "cell_type": "markdown",
      "source": [
        "Indentation"
      ],
      "metadata": {
        "id": "z78B3WaTRu3Y"
      }
    },
    {
      "cell_type": "code",
      "execution_count": null,
      "metadata": {
        "id": "twCa7w6RRkJa"
      },
      "outputs": [],
      "source": [
        "if 5>2:\n",
        "  print('five is greater than 2')"
      ]
    },
    {
      "cell_type": "markdown",
      "source": [
        "Python Comment"
      ],
      "metadata": {
        "id": "3UJjtkvfSdzY"
      }
    },
    {
      "cell_type": "code",
      "source": [
        "#This is a comment\n",
        "print('Hello World')\n"
      ],
      "metadata": {
        "id": "aWhbDbbqS4zG"
      },
      "execution_count": null,
      "outputs": []
    },
    {
      "cell_type": "markdown",
      "source": [
        "Python Variable (Case sensitive - Python)"
      ],
      "metadata": {
        "id": "rN58N8l6TEGW"
      }
    },
    {
      "cell_type": "code",
      "source": [
        "# Single variable with multiple values \n",
        "array = [1,2,3,40,50,1100]\n",
        "print (array)\n",
        "# multiple values with Single variable\n",
        "a = b = c = 'Tupe'\n",
        "print(a)\n",
        "print(b)\n",
        "print(c)"
      ],
      "metadata": {
        "id": "MvT_t31vTNW-"
      },
      "execution_count": null,
      "outputs": []
    },
    {
      "cell_type": "markdown",
      "source": [
        "Casting Python Code"
      ],
      "metadata": {
        "id": "5XX7vY4kUyN2"
      }
    },
    {
      "cell_type": "code",
      "source": [
        "n = int (4)\n",
        "print (n)"
      ],
      "metadata": {
        "id": "A6ovl60GU2fm"
      },
      "execution_count": null,
      "outputs": []
    },
    {
      "cell_type": "markdown",
      "source": [
        "Python Type Function"
      ],
      "metadata": {
        "id": "XkET6rtKVNRN"
      }
    },
    {
      "cell_type": "code",
      "source": [
        "C = 'Tupe'\n",
        "d = 5.6\n",
        "print(type(c))\n",
        "print(type(d))"
      ],
      "metadata": {
        "id": "uf2nwpY7VRMl"
      },
      "execution_count": null,
      "outputs": []
    }
  ]
}