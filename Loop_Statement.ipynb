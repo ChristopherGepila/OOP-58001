{
  "nbformat": 4,
  "nbformat_minor": 0,
  "metadata": {
    "colab": {
      "provenance": [],
      "authorship_tag": "ABX9TyMLQTTTE4kTvosYpB6d/hcQ",
      "include_colab_link": true
    },
    "kernelspec": {
      "name": "python3",
      "display_name": "Python 3"
    },
    "language_info": {
      "name": "python"
    }
  },
  "cells": [
    {
      "cell_type": "markdown",
      "metadata": {
        "id": "view-in-github",
        "colab_type": "text"
      },
      "source": [
        "<a href=\"https://colab.research.google.com/github/ChristopherGepila/OOP-58001/blob/main/Loop_Statement.ipynb\" target=\"_parent\"><img src=\"https://colab.research.google.com/assets/colab-badge.svg\" alt=\"Open In Colab\"/></a>"
      ]
    },
    {
      "cell_type": "markdown",
      "source": [
        "\n",
        "Looping Statement\n",
        "---\n",
        "\n"
      ],
      "metadata": {
        "id": "MnGPMtGaZEtH"
      }
    },
    {
      "cell_type": "code",
      "execution_count": null,
      "metadata": {
        "id": "id-ElWOWX2vR"
      },
      "outputs": [],
      "source": [
        "Week = [\"Monday\", \"Tuesday\", \"Wednesday\", \"Thursday\", \"Friday\", \"Saturday\",\"Sunday\"]\n",
        "for x in Week:\n",
        "  print(x)"
      ]
    },
    {
      "cell_type": "markdown",
      "source": [
        "Break Statement"
      ],
      "metadata": {
        "id": "AFVXwvXOaTI-"
      }
    },
    {
      "cell_type": "code",
      "source": [
        "Week = [\"Monday\", \"Tuesday\", \"Wednesday\", \"Thursday\", \"Friday\", \"Saturday\",\"Sunday\"]\n",
        "for x in Week:\n",
        "   if x == \"Friday\":\n",
        "    print(x)\n",
        "    break\n"
      ],
      "metadata": {
        "colab": {
          "base_uri": "https://localhost:8080/"
        },
        "id": "O_CyEy3nabiH",
        "outputId": "83f909d0-d8ec-4118-8dfb-2b61b3b0b695"
      },
      "execution_count": 23,
      "outputs": [
        {
          "output_type": "stream",
          "name": "stdout",
          "text": [
            "Friday\n"
          ]
        }
      ]
    },
    {
      "cell_type": "code",
      "source": [
        "Week = [\"Monday\", \"Tuesday\", \"Wednesday\", \"Thursday\", \"Friday\", \"Saturday\",\"Sunday\"]\n",
        "for x in Week:\n",
        "   print(x)\n",
        "   if x == \"Friday\":\n",
        "    break"
      ],
      "metadata": {
        "id": "FjXZOgSQb4vy"
      },
      "execution_count": null,
      "outputs": []
    },
    {
      "cell_type": "code",
      "source": [
        "Week = [\"Monday\", \"Tuesday\", \"Wednesday\", \"Thursday\", \"Friday\", \"Saturday\",\"Sunday\"]\n",
        "for x in Week:\n",
        "    if x == \"Monday\":\n",
        "      print(x)\n",
        "    if x == \"Saturday\":\n",
        "     print(x)\n",
        "     break"
      ],
      "metadata": {
        "id": "y0U2cVPSdgQr"
      },
      "execution_count": null,
      "outputs": []
    },
    {
      "cell_type": "markdown",
      "source": [
        "Looping through a String"
      ],
      "metadata": {
        "id": "aGiAvubRetjC"
      }
    },
    {
      "cell_type": "code",
      "source": [
        "for x in \"Pogi ako\":\n",
        "  print(x)"
      ],
      "metadata": {
        "id": "z_CTgQNMe2dx"
      },
      "execution_count": null,
      "outputs": []
    },
    {
      "cell_type": "markdown",
      "source": [
        "Nested Loops"
      ],
      "metadata": {
        "id": "bgcOSVLffA-D"
      }
    },
    {
      "cell_type": "code",
      "source": [
        "adjective = [\"red\", \"big\", \"tasty\"]\n",
        "fruits = [\"apple\", \"banana\", \"cherry\"]\n",
        "\n",
        "for x in adjective:\n",
        "  for y in fruits:\n",
        "    print(x,y)"
      ],
      "metadata": {
        "id": "zIXnzO-xfCsK"
      },
      "execution_count": null,
      "outputs": []
    },
    {
      "cell_type": "markdown",
      "source": [
        "Python While loop"
      ],
      "metadata": {
        "id": "N8ypA33Bf8OO"
      }
    },
    {
      "cell_type": "code",
      "source": [
        "i = 1\n",
        "while i <= 30:\n",
        "  print(i)\n",
        "  i += 1"
      ],
      "metadata": {
        "id": "qhtklOj4f_8-"
      },
      "execution_count": null,
      "outputs": []
    },
    {
      "cell_type": "code",
      "source": [
        "i = 1\n",
        "while i <= 6:\n",
        "   print(i)\n",
        "   if i == 3:\n",
        "    break\n",
        "   i += 1"
      ],
      "metadata": {
        "id": "BLZFDWyRhadG"
      },
      "execution_count": null,
      "outputs": []
    },
    {
      "cell_type": "code",
      "source": [
        "i = 1\n",
        "while i <=6:\n",
        "  print(i)\n",
        "  break\n",
        "i +=1"
      ],
      "metadata": {
        "id": "GXHLXuQGi-vK"
      },
      "execution_count": null,
      "outputs": []
    },
    {
      "cell_type": "markdown",
      "source": [
        "Else Statement"
      ],
      "metadata": {
        "id": "Dn-2ZvhfmKM3"
      }
    },
    {
      "cell_type": "code",
      "source": [
        "i = 1\n",
        "while i <6:\n",
        "  print(i)\n",
        "  i += 1\n",
        "else:\n",
        "  print(\"i is no longer less than 6\")"
      ],
      "metadata": {
        "id": "_xMN-4V7jTRB"
      },
      "execution_count": null,
      "outputs": []
    },
    {
      "cell_type": "markdown",
      "source": [
        "Let's Try\n"
      ],
      "metadata": {
        "id": "nJnfB4ODj6fi"
      }
    },
    {
      "cell_type": "code",
      "source": [
        "n = 0 \n",
        "while n <=10:\n",
        "  print(\"Hello\", n)\n",
        "  n += 1\n"
      ],
      "metadata": {
        "id": "of1b4jYdj705"
      },
      "execution_count": null,
      "outputs": []
    },
    {
      "cell_type": "markdown",
      "source": [
        "Let's Try"
      ],
      "metadata": {
        "id": "LqCEFvf8khbZ"
      }
    },
    {
      "cell_type": "code",
      "source": [
        "i = 0\n",
        "while i < 10:\n",
        "   if i >= 3:\n",
        "     print(i)\n",
        "   i += 1"
      ],
      "metadata": {
        "id": "z956SYnsklv5"
      },
      "execution_count": null,
      "outputs": []
    }
  ]
}